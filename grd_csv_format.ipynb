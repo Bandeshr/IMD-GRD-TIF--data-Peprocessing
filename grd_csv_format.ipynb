{
 "cells": [
  {
   "cell_type": "code",
   "execution_count": null,
   "metadata": {},
   "outputs": [],
   "source": [
    "import imdlib as imd"
   ]
  },
  {
   "cell_type": "code",
   "execution_count": null,
   "metadata": {},
   "outputs": [],
   "source": [
    "start_yr = 2022 # give starting year from which you want to download/convert data: 1901 ownwards for rainfall, 1951 for tmax and tmin\n",
    "end_yr = 2023 # give ending year upto which you want to download/convert data\n",
    "variable = 'tmin' # give variable name (rain for rainfall at 0.25 deg, tmax or tmin for rainfall, min or max temperature at 1 deg resolution)\n",
    "file_format = 'yearwise' # other option (None), which will assume deafult imd naming convention\n",
    "file_dir = 'C:/Users/Bandesh/Satsure/others/Yes_tech/imd_temp' # this path should be same as mentioned in previous line\n",
    "data = imd.open_data(variable, start_yr, end_yr,'yearwise', file_dir) # this will open the data downloaded and saved in the location mentioned in previous line"
   ]
  },
  {
   "cell_type": "code",
   "execution_count": null,
   "metadata": {},
   "outputs": [],
   "source": [
    "if variable == 'rain':\n",
    "    grid_size = 0.25 # grid spacing in deg\n",
    "    y_count = 129 # no of grids in y direction\n",
    "    x_count = 135 # no of grids in x direction\n",
    "    x = 66.5 # starting longitude taken from control file (.ctl)\n",
    "    y = 6.5 # starting latitude taken from control file (.ctl)\n",
    "elif variable == 'tmax' or variable == 'tmin':\n",
    "    grid_size = 1 # grid spacing in deg\n",
    "    y_count = 31 # no of grids in y direction\n",
    "    x_count = 31 # no of grids in x direction\n",
    "    x = 67.5 # starting longitude taken from control file (.ctl)\n",
    "    y = 7.5 # starting latitude taken from control file (.ctl)\n",
    "\n",
    "#print(grid_size,x_count, y_count, x, y)\n",
    "data\n",
    "data.shape\n",
    "np_array = data.data\n",
    "#print(np_array[0,0,0])\n",
    "#xr_objecct = data.get_xarray()\n",
    "#type(xr_objecct)\n",
    "#xr_objecct.mean('time').plot()\n",
    "years_no = (end_yr - start_yr) + 1\n",
    "#print(years_no)\n",
    "day = 0\n",
    "for yr in range(0,years_no):\n",
    "    f = open(\"C:/Users/Bandesh/Satsure/others/Yes_tech/imd_temp\"+str(start_yr+yr)+\"_\"+str(variable)+\".csv\",'w') # just change the path where you want to save csv file\n",
    "    if ((start_yr+yr) % 4 == 0) and ((start_yr+yr) % 100 != 0):  # check for leap year\n",
    "        days = 366\n",
    "        count = yr + days\n",
    "    elif ((start_yr+yr) % 4 == 0) and ((start_yr+yr) % 100 == 0) and ((start_yr+yr) % 400 == 0):\n",
    "        days = 366\n",
    "        count = yr + days\n",
    "    else:\n",
    "        days = 365\n",
    "        count = yr + days\n",
    "\n",
    "    day = day + days\n",
    "\n",
    "    f.write(\"X,Y,\")\n",
    "    for d in range(0, days):\n",
    "        f.write(str(d+1))\n",
    "        f.write(\",\")\n",
    "    f.write(\"\\n\")\n",
    "    #print(np_array[364,0,0])\n",
    "    for j in range(0, y_count):\n",
    "\n",
    "        for i in range(0, x_count):\n",
    "\n",
    "            f.write(str((i * grid_size) + x))\n",
    "            f.write(\",\")\n",
    "            f.write(str((j * grid_size) + y))\n",
    "            f.write(\",\")\n",
    "            time = 0\n",
    "            for k in range(day-days, day):\n",
    "\n",
    "                val = np_array[k,i,j]\n",
    "                if val == 99.9000015258789 or val == -999:\n",
    "                    f.write(str(-9999))\n",
    "                    f.write(\",\")\n",
    "                else:\n",
    "                    f.write(str(val))\n",
    "                    f.write(\",\")\n",
    "\n",
    "\n",
    "            f.write(\"\\n\")\n",
    "    print(\"File for \" + str(start_yr + yr) + \"_\" + str(variable) + \" is saved\")\n",
    "print(\"CSV conversion successful !\")"
   ]
  },
  {
   "cell_type": "markdown",
   "metadata": {},
   "source": [
    "Convert csv to shape file"
   ]
  },
  {
   "cell_type": "code",
   "execution_count": null,
   "metadata": {},
   "outputs": [],
   "source": [
    "import pandas as pd\n",
    "import geopandas as gpd\n",
    "from shapely.geometry import Point"
   ]
  },
  {
   "cell_type": "code",
   "execution_count": null,
   "metadata": {},
   "outputs": [],
   "source": [
    "def csv_to_shapefile(csv_path, shapefile_path):\n",
    "    # Read the CSV file\n",
    "    df = pd.read_csv(csv_path)\n",
    "\n",
    "# Extract the latitude and longitude columns\n",
    "    geometry = [Point(xy) for xy in zip(df['X'], df['Y'])]\n",
    "\n",
    "    # Drop the latitude and longitude columns from the dataframe\n",
    "    # df = df.drop(['X', 'Y'], axis=1)\n",
    "\n",
    "    # Create a GeoDataFrame\n",
    "    gdf = gpd.GeoDataFrame(df, geometry=geometry, crs=\"EPSG:4326\")\n",
    "\n",
    "    # Extract date information from the column names\n",
    "    for col in df.columns:\n",
    "        if col.startswith('day_'):\n",
    "            date_str = col.split('_')[1]\n",
    "            year = date_str[:4]\n",
    "            month = date_str[4:6]\n",
    "            day = date_str[6:8]\n",
    "            gdf[col + '_year'] = year\n",
    "            gdf[col + '_month'] = month\n",
    "            gdf[col + '_day'] = day\n",
    "\n",
    "    # Save the GeoDataFrame to a shapefile\n",
    "    gdf.to_file(shapefile_path, driver='ESRI Shapefile')\n",
    "\n",
    "# Example usage\n",
    "csv_path = \"C:/Users/Bandesh/Satsure/others/Yes_tech/Barghar_dist/imd_temp/csv2023_tmax.csv\"\n",
    "shapefile_path = \"C:/Users/Bandesh/Satsure/others/Yes_tech/Barghar_dist/imd_temp/new_test/2023_tmax\"\n",
    "csv_to_shapefile(csv_path, shapefile_path)"
   ]
  },
  {
   "cell_type": "markdown",
   "metadata": {},
   "source": [
    "extract day wise with date and save in shape file"
   ]
  },
  {
   "cell_type": "code",
   "execution_count": null,
   "metadata": {},
   "outputs": [],
   "source": [
    "import geopandas as gpd\n",
    "import pandas as pd\n",
    "import os\n",
    "from datetime import datetime, timedelta\n",
    "\n",
    "# Path to the input shapefile\n",
    "input_shapefile = \"C:/Users/Bandesh/Satsure/others/Yes_tech/Barghar_dist/imd_temp/new_test/2023_tmax/2023_tmax.shp\"\n",
    "\n",
    "# Output directory for individual shapefiles\n",
    "output_directory = \"C:/Users/Bandesh/Satsure/others/Yes_tech/Barghar_dist/imd_temp/new_test/2023_tmax/day_wise\"\n",
    "os.makedirs(output_directory, exist_ok=True)\n",
    "\n",
    "# Read the shapefile\n",
    "gdf = gpd.read_file(input_shapefile)\n",
    "\n",
    "# Extract X and Y columns for lat and long\n",
    "gdf['geometry'] = gpd.points_from_xy(gdf['X'], gdf['Y'])\n",
    "\n",
    "# Replace -9999 values with NaN\n",
    "gdf.replace(-9999, pd.NA, inplace=True)\n",
    "\n",
    "# Assuming columns from the 3rd to the end are day-wise data\n",
    "start_date = datetime(2023, 1, 1)\n",
    "\n",
    "for i, col in enumerate(gdf.columns[2:], start=1):\n",
    "    try:\n",
    "        # Calculate the date\n",
    "        current_date = start_date + timedelta(days=i-1)\n",
    "        date_str = current_date.strftime(\"%d_%m_%Y\")\n",
    "        \n",
    "        # Create a new GeoDataFrame with only the necessary columns\n",
    "        new_gdf = gdf[['geometry', col]].copy()\n",
    "        new_gdf = new_gdf.rename(columns={col: 'data'})\n",
    "        \n",
    "        # Remove rows with NaN values in 'data' column\n",
    "        new_gdf = new_gdf.dropna(subset=['data'])\n",
    "        \n",
    "        # Save to a new shapefile\n",
    "        output_shapefile = os.path.join(output_directory, f\"{date_str}.shp\")\n",
    "        new_gdf.to_file(output_shapefile)\n",
    "\n",
    "        print(f\"Saved {output_shapefile}\")\n",
    "    except Exception as e:\n",
    "        print(f\"Error processing column {col}: {e}\")\n",
    "\n",
    "print(\"Shapefiles have been saved successfully.\")"
   ]
  },
  {
   "cell_type": "markdown",
   "metadata": {},
   "source": [
    "Interpolution "
   ]
  },
  {
   "cell_type": "code",
   "execution_count": null,
   "metadata": {},
   "outputs": [],
   "source": [
    "import geopandas as gpd\n",
    "import numpy as np\n",
    "import rasterio\n",
    "from rasterio.transform import from_origin\n",
    "from scipy.interpolate import griddata\n",
    "\n",
    "# Step 1: Read the shapefile\n",
    "shapefile_path = \"C:/Users/Bandesh/Satsure/others/Yes_tech/Barghar_dist/imd_temp/new_test/2023_tmax/day_wise/01_01_2023.shp\"\n",
    "gdf = gpd.read_file(shapefile_path)\n",
    "\n",
    "# Extract x, y coordinates and the value to interpolate\n",
    "x = gdf.geometry.x\n",
    "y = gdf.geometry.y\n",
    "z = gdf['data']  # Replace with the name of the column to interpolate\n",
    "\n",
    "# Define the pixel size\n",
    "pixel_size = 0.001000  # Replace with your desired pixel size\n",
    "\n",
    "# Step 2: Define the grid for interpolation with specified pixel size\n",
    "x_min, x_max = min(x), max(x)\n",
    "y_min, y_max = min(y), max(y)\n",
    "\n",
    "# Calculate number of pixels along X and Y dimensions\n",
    "num_pixels_x = int((x_max - x_min) / pixel_size) + 1\n",
    "num_pixels_y = int((y_max - y_min) / pixel_size) + 1\n",
    "\n",
    "# Create the grid with the specified number of pixels\n",
    "grid_x, grid_y = np.meshgrid(np.linspace(x_min, x_max, num_pixels_x),\n",
    "                             np.linspace(y_min, y_max, num_pixels_y))\n",
    "\n",
    "# Perform cubic interpolation\n",
    "grid_z = griddata((x, y), z, (grid_x, grid_y), method='cubic')\n",
    "\n",
    "# Reverse the y-axis to correct orientation\n",
    "grid_z = np.flipud(grid_z)\n",
    "\n",
    "# Step 3: Save the interpolated surface as a TIFF file with compression and same extent\n",
    "transform = from_origin(x_min, y_max, pixel_size, pixel_size)\n",
    "\n",
    "output_tiff_path = 'C:/Users/Bandesh/Satsure/others/Yes_tech/Barghar_dist/imd_temp/new_test/2023_tmax/inter_data/01_01_2023_1.tif'\n",
    "\n",
    "with rasterio.open(\n",
    "    output_tiff_path,\n",
    "    'w',\n",
    "    driver='GTiff',\n",
    "    height=grid_z.shape[0],\n",
    "    width=grid_z.shape[1],\n",
    "    count=1,\n",
    "    dtype=grid_z.dtype,\n",
    "    crs=gdf.crs,  # Use the CRS from the shapefile\n",
    "    transform=transform,\n",
    "    compress='DEFLATE',  # Apply DEFLATE compression\n",
    "    zlevel=9  # Set high compression level\n",
    ") as new_dataset:\n",
    "    new_dataset.write(grid_z, 1)"
   ]
  },
  {
   "cell_type": "code",
   "execution_count": null,
   "metadata": {},
   "outputs": [],
   "source": []
  },
  {
   "cell_type": "markdown",
   "metadata": {},
   "source": [
    "yearly data download"
   ]
  },
  {
   "cell_type": "code",
   "execution_count": null,
   "metadata": {},
   "outputs": [],
   "source": [
    "import imdlib as imd\n",
    "start_yr = 2022\n",
    "end_yr = 2024\n",
    "# other options are ('tmin'/ 'tmax')\n",
    "variable = 'tmax' \n",
    "file_dir = (r'C:/Users/Bandesh/Satsure/others/Yes_tech/Barghar_dist/imd_temp/new_test/2023_tmax/') #Path to save the files\n",
    "imd.get_data(variable, start_yr, end_yr, fn_format='yearwise', file_dir=file_dir)"
   ]
  },
  {
   "cell_type": "markdown",
   "metadata": {},
   "source": [
    "The Daily Real Time Data available,\n",
    "\n",
    "rain = Daily Rainfall data\n",
    "raingpm = Daily Merged Satellite Guage Rainfall (GPM) data\n",
    "tmax = Daily Maximum Temperature data\n",
    "tmin = Daily Minimum Temperature Data\n",
    "tmaxone = Daily Maximum Temperature data (1.0 degree)\n",
    "tminone = Daily Minimum Temperature Data (1.0 degree)\n",
    "Installation"
   ]
  },
  {
   "cell_type": "code",
   "execution_count": null,
   "metadata": {},
   "outputs": [],
   "source": [
    "from imddaily import imddaily\n",
    "data = imddaily.get_data('tmin', '2023-03-01', '2023-12-01', 'C:/Users/Bandesh/Satsure/others/Yes_tech/imd_temp/2023_tmin/')\n",
    "data.to_geotiff('C:/Users/Bandesh/Satsure/others/Yes_tech/imd_temp/2023_tmin/')"
   ]
  },
  {
   "cell_type": "code",
   "execution_count": null,
   "metadata": {},
   "outputs": [],
   "source": [
    "from imddaily import imddaily\n",
    "data = imddaily.get_data('rain', '2023-03-01', '2023-12-01', 'C:/Users/Bandesh/Satsure/others/Yes_tech/imd_temp/2023_tmin/')\n",
    "data.to_geotiff('C:/Users/Bandesh/Satsure/others/Yes_tech/imd_temp/2023_tmin/')"
   ]
  }
 ],
 "metadata": {
  "kernelspec": {
   "display_name": "satsure1",
   "language": "python",
   "name": "python3"
  },
  "language_info": {
   "codemirror_mode": {
    "name": "ipython",
    "version": 3
   },
   "file_extension": ".py",
   "mimetype": "text/x-python",
   "name": "python",
   "nbconvert_exporter": "python",
   "pygments_lexer": "ipython3",
   "version": "3.9.7"
  }
 },
 "nbformat": 4,
 "nbformat_minor": 2
}
